{
 "cells": [
  {
   "cell_type": "code",
   "execution_count": 1,
   "metadata": {},
   "outputs": [],
   "source": [
    "# Dependencies\n",
    "import wikipedia\n",
    "import pandas as pd\n",
    "from random import sample \n",
    "import time\n",
    "from math import log10,sqrt\n",
    "\n",
    "# Searched for random nba and 'big' football teams\n",
    "list_searches_nba = ['Los Angeles Lakers', 'Golden State Warriors', 'Toronto Raptors',\n",
    "                'Milwaukee Bucks', 'LA Clippers', 'Boston Celtics', 'Denver Nuggets',\n",
    "                'Utah Jazz', 'Miami Heat', 'Houston Rockets', 'Dallas Mavericks',\n",
    "                    'Atlanta Hawks', 'Brooklyn Nets', 'Charlotte Hornets', 'Chicago Bulls',\n",
    "                    'Cleveland Cavaliers', 'Detroit Pistons', 'Indiana Pacers', 'Memphis Grizzlies',\n",
    "                    'Minnesota Timberwolves', 'New Orleans Pelicans', 'New York Knicks', 'Oklahoma City Thunder',\n",
    "                    'San Antonio Spurs', 'Orlando Magic']\n",
    "list_searches_cl = ['Manchester City', 'Paris Saint Germain', 'Real Madrid', 'FC Barcelona',\n",
    "                    'Liverpool', 'Juventus', 'Valancia', 'Atalanta Bergamo',\n",
    "                    'FC Bayern Munchen', 'Atlético Madrid', 'SSC Napoli', 'Borussia Dortmund',\n",
    "                    'Olympique Lyon', 'Tottenham Hotspur', 'RasenBallsport Leipzig', 'Ajax Amsterdam',\n",
    "                    'Dinamo Zagreb', 'APOEL Nicosia', 'Dynamo kiev', 'Bayer 04 Leverkusen', 'Internazionale',\n",
    "                    'FC Red Bull Salzburg', 'Galatasaray', 'Olympiacos', 'Hoffenhheim', 'Schalke 04']\n",
    "\n",
    "# Function for importaning the pages\n",
    "def import_wikipedia(list_searches):\n",
    "    data_searches, count = [], 0\n",
    "    for search in list_searches:\n",
    "        try:\n",
    "            p = wikipedia.page(search)\n",
    "            data_searches.append(p.content)\n",
    "        except:\n",
    "            count += 1\n",
    "    return data_searches, count\n",
    "\n",
    "data_nba, inv_nba = import_wikipedia(list_searches_nba)\n",
    "data_cl, inv_cl = import_wikipedia(list_searches_cl)\n",
    "\n",
    "# List of stopwords for removing stopwords\n",
    "stopwords= ['a','able','about','across','after','all','almost','also','am','among','an','and','any','are','as','at','be','because','been','but','by',\n",
    "            'can','cannot','could','dear','did','do','does','either','else','ever','every','for','from','get','got','had','has','have','he','her','hers',\n",
    "            'him','his','how','however','i','if','in','into','is','it','its','just','least','let','like','likely','may','me','might','most','must','my',\n",
    "            'neither','no','nor','not','of','off','often','on','only','or','other','our','own','rather','said','say','says','she','should','since','so',\n",
    "            'some','than','that','the','their','them','then','there','these','they','this','tis','to','too','twas','us','wants','was','we','were','what',\n",
    "            'when','where','which','while','who','whom','why','will','with','would','yet','you','your']"
   ]
  },
  {
   "cell_type": "code",
   "execution_count": 2,
   "metadata": {},
   "outputs": [],
   "source": [
    "datasets = data_nba + data_cl\n",
    "\n",
    "# Merging the lists\n",
    "lst_search = list_searches_nba + list_searches_cl"
   ]
  },
  {
   "cell_type": "code",
   "execution_count": null,
   "metadata": {},
   "outputs": [],
   "source": [
    "# def mapper1(data, lst_search):\n",
    "#     final_output = []\n",
    "#     for i in range(len(data)):\n",
    "#         output_not_sorted = []\n",
    "#         filename = lst_search[i]\n",
    "#         # remove whitespace\n",
    "#         line = data[i].strip()\n",
    "#         # split into words\n",
    "#         words = line.split()\n",
    "#         for word in words:\n",
    "#             word=word.lower()\n",
    "#             if word not in stopwords:\n",
    "#                 z=word+' * '+filename\n",
    "#                 output = '%s \\t %s' % (z, 1)\n",
    "#                 output_not_sorted.append(output)\n",
    "#         sorted_output = sorted(output_not_sorted)\n",
    "#         final_output.append(sorted_output)\n",
    "\n",
    "#     return final_output"
   ]
  },
  {
   "cell_type": "code",
   "execution_count": 3,
   "metadata": {},
   "outputs": [],
   "source": [
    "def mapper1(data):\n",
    "    final_output = []\n",
    "    for i in range(len(data)):\n",
    "        output_not_sorted = []\n",
    "#         filename = lst_search[i]\n",
    "        filename = sample(lst_search, 1)[0]\n",
    "        # remove whitespace\n",
    "        line = data[i].strip()\n",
    "        # split into words\n",
    "        words = line.split()\n",
    "        for word in words:\n",
    "            word=word.lower()\n",
    "            if word not in stopwords:\n",
    "                z=word+' * '+filename\n",
    "                output = '%s \\t %s' % (z, 1)\n",
    "                output_not_sorted.append(output)\n",
    "        sorted_output = sorted(output_not_sorted)\n",
    "        final_output.append(sorted_output)\n",
    "\n",
    "    return final_output"
   ]
  },
  {
   "cell_type": "code",
   "execution_count": 4,
   "metadata": {},
   "outputs": [],
   "source": [
    "# Computing the term occurences n\n",
    "def reducer1(map_result):\n",
    "    current_word = None\n",
    "    current_count = 0\n",
    "    word = None\n",
    "    final_output = []\n",
    "\n",
    "    for j in map_result:\n",
    "        for line in j:\n",
    "            line = line.strip()\n",
    "            word, count = line.split('\\t', 1)\n",
    "\n",
    "            try:\n",
    "                count = int(count)\n",
    "            except ValueError:\n",
    "                continue\n",
    "            \n",
    "            # The if-switch works because the output is mapped by key (here: word),\n",
    "            # this is how it also works in Hadoop\n",
    "            if current_word == word:\n",
    "                current_count += count\n",
    "            else:\n",
    "                if current_word:\n",
    "                    output = '%s \\t %s' % (current_word, current_count)\n",
    "                    final_output.append(output)\n",
    "                current_count = count\n",
    "                current_word = word\n",
    "\n",
    "    # Outputting the last word if needed\n",
    "    if current_word == word:\n",
    "        output = '%s \\t %s' % (current_word, current_count)\n",
    "        final_output.append(output)\n",
    "    return final_output"
   ]
  },
  {
   "cell_type": "code",
   "execution_count": null,
   "metadata": {},
   "outputs": [],
   "source": []
  },
  {
   "cell_type": "code",
   "execution_count": 5,
   "metadata": {},
   "outputs": [],
   "source": [
    "# %%time\n",
    "# map_result1 = mapper1(datasets)#, lst_search)\n",
    "# reduce_result1 = reducer1(map_result1)"
   ]
  },
  {
   "cell_type": "code",
   "execution_count": null,
   "metadata": {},
   "outputs": [],
   "source": []
  },
  {
   "cell_type": "code",
   "execution_count": null,
   "metadata": {},
   "outputs": [],
   "source": []
  },
  {
   "cell_type": "code",
   "execution_count": 6,
   "metadata": {},
   "outputs": [],
   "source": [
    "def mapper2(data_reducer):\n",
    "    final_output = []\n",
    "    for line in data_reducer:\n",
    "        # remove whitespace\n",
    "        line = line.strip()\n",
    "        # splitting into words\n",
    "        wordfilename,count=line.split('\\t',1)\n",
    "        wordfilename = wordfilename.strip()\n",
    "        try:\n",
    "            word,filename=wordfilename.split('*')\n",
    "        except:\n",
    "            pass\n",
    "        z=word+' '+count;\n",
    "        output = '%s \\t %s' % (filename, z)\n",
    "        final_output.append(output)\n",
    "    return final_output"
   ]
  },
  {
   "cell_type": "code",
   "execution_count": 7,
   "metadata": {},
   "outputs": [],
   "source": [
    "# Computing the document lengths\n",
    "def reducer2(map_result):\n",
    "    current_word = None\n",
    "    prev_filename = None\n",
    "    current_count = 0\n",
    "    word = None\n",
    "    N=0\n",
    "    df={}\n",
    "    l1=[]\n",
    "    final_output = []\n",
    "    \n",
    "    for line in map_result:\n",
    "        line = line.strip()\n",
    "        l1.append(line)\n",
    "        filename,wordcount = line.split('\\t', 1)\n",
    "        wordcount = wordcount.strip()\n",
    "        word,count = wordcount.split(' ', 1)\n",
    "        count=int(count)\n",
    "        if prev_filename == filename:\n",
    "            N+=count\n",
    "        else:\n",
    "            if prev_filename != None:\n",
    "                df[prev_filename]=N\n",
    "            N=0\n",
    "            prev_filename = filename\n",
    "    df[prev_filename]=N\n",
    "\n",
    "    for h in l1:\n",
    "        filename,wordcount = h.split('\\t', 1)\n",
    "        wordcount = wordcount.strip()\n",
    "        word,count = wordcount.split(' ', 1) \n",
    "        for k in df:\n",
    "            if filename == k:\n",
    "                wf=word+' '+filename\n",
    "                nN=count+' '+str(df[k])\n",
    "                output = '%s \\t %s' % (wf,nN)\n",
    "                final_output.append(output)\n",
    "    return final_output"
   ]
  },
  {
   "cell_type": "code",
   "execution_count": 8,
   "metadata": {},
   "outputs": [],
   "source": [
    "# %%time\n",
    "# map_result2 = mapper2(reduce_result1)\n",
    "# reduce_result2 = reducer2(map_result2)"
   ]
  },
  {
   "cell_type": "code",
   "execution_count": null,
   "metadata": {},
   "outputs": [],
   "source": []
  },
  {
   "cell_type": "code",
   "execution_count": 9,
   "metadata": {},
   "outputs": [],
   "source": [
    "# Sorting the words alphabetically\n",
    "def mapper3(reduce_result):\n",
    "    output_list = []\n",
    "    for line in reduce_result:\n",
    "        line = line.strip()\n",
    "        wf,nN=line.split('\\t',1)\n",
    "        w,f=wf.split(' ',1)\n",
    "        z=f+' * '+nN+' '+str(1)\n",
    "        output = '%s \\t %s' % (w,z)\n",
    "        output_list.append(output)\n",
    "    final_output = sorted(output_list)\n",
    "    return final_output"
   ]
  },
  {
   "cell_type": "code",
   "execution_count": 10,
   "metadata": {},
   "outputs": [],
   "source": [
    "# Computing the document-frequency of the terms\n",
    "def reducer3(map_result):\n",
    "    prev_word = None\n",
    "    count = 1 \n",
    "    word = None\n",
    "    final_output = []\n",
    "    for line in map_result:\n",
    "        line = line.strip()\n",
    "        w,z= line.split('\\t', 1)\n",
    "        w = w.strip()\n",
    "        z = z.strip()\n",
    "        f,nNc = z.split('*',1)\n",
    "        f = f.strip()\n",
    "        nNc = nNc.strip()\n",
    "        n,Nc=nNc.split(' ',1)\n",
    "        N,c=Nc.split(' ',1)\n",
    "        if prev_word == w:\n",
    "            count += int(c)\n",
    "        else:\n",
    "            if prev_word != None:\n",
    "                output=w+' '+f+' \\t '+n+' '+N+' '+str(count)\n",
    "                final_output.append(output)\n",
    "            count=1\n",
    "            prev_word = w\n",
    "    return final_output"
   ]
  },
  {
   "cell_type": "code",
   "execution_count": 11,
   "metadata": {},
   "outputs": [],
   "source": [
    "# %%time\n",
    "# map_result3 = mapper3(reduce_result2)"
   ]
  },
  {
   "cell_type": "code",
   "execution_count": null,
   "metadata": {},
   "outputs": [],
   "source": []
  },
  {
   "cell_type": "code",
   "execution_count": 12,
   "metadata": {},
   "outputs": [],
   "source": [
    "# %%time\n",
    "# reduce_result3 = reducer3(map_result3)"
   ]
  },
  {
   "cell_type": "code",
   "execution_count": 27,
   "metadata": {},
   "outputs": [],
   "source": [
    "# Computing the TF-IDF weights\n",
    "def mapper4(reduce_result):\n",
    "    D=1000\n",
    "    final_output = []\n",
    "    for line in reduce_result:\n",
    "        # removing white space\n",
    "        line = line.strip()\n",
    "        # splitting the words\n",
    "        wf,nNm=line.split('\\t',1)\n",
    "        wf = wf.strip()\n",
    "        nNm = nNm.strip()\n",
    "        n,N,m=nNm.split(' ',2)\n",
    "        # transform to numeric for computation\n",
    "        n=float(n)\n",
    "        N=float(N)\n",
    "        m=float(m)\n",
    "        if N == 0:\n",
    "            tfidf = 0\n",
    "        elif m == 0:\n",
    "            tfidf = 0\n",
    "        else:\n",
    "            tfidf= (n/N)*log10(D/m)\n",
    "        tfidf= (n/N)*log10(D/m)\n",
    "        output = '%s \\t %s' % (wf,tfidf)\n",
    "        final_output.append(output)\n",
    "    return final_output"
   ]
  },
  {
   "cell_type": "code",
   "execution_count": 14,
   "metadata": {},
   "outputs": [],
   "source": [
    "datasets = data_nba*100 + data_cl*100\n",
    "\n",
    "# Merging the lists\n",
    "lst_search = list_searches_nba + list_searches_cl"
   ]
  },
  {
   "cell_type": "code",
   "execution_count": 15,
   "metadata": {},
   "outputs": [
    {
     "data": {
      "text/plain": [
       "4500"
      ]
     },
     "execution_count": 15,
     "metadata": {},
     "output_type": "execute_result"
    }
   ],
   "source": [
    "len(datasets)"
   ]
  },
  {
   "cell_type": "code",
   "execution_count": 16,
   "metadata": {},
   "outputs": [
    {
     "data": {
      "text/plain": [
       "51"
      ]
     },
     "execution_count": 16,
     "metadata": {},
     "output_type": "execute_result"
    }
   ],
   "source": [
    "len(lst_search)"
   ]
  },
  {
   "cell_type": "code",
   "execution_count": 29,
   "metadata": {},
   "outputs": [],
   "source": [
    "def parallel_tfidf(data): #, searches):\n",
    "    mr1 = mapper1(data) #, searches)\n",
    "    rr1 = reducer1(mr1)\n",
    "    mr2 = mapper2(rr1)\n",
    "    rr2 = reducer2(mr2)\n",
    "    mr3 = mapper3(rr2)\n",
    "    rr3 = reducer3(mr3)\n",
    "    mr4 = mapper4(rr3)\n",
    "    \n",
    "    return rr3"
   ]
  },
  {
   "cell_type": "code",
   "execution_count": 30,
   "metadata": {},
   "outputs": [],
   "source": [
    "# from functools import partial\n",
    "from multiprocessing import Pool\n",
    "import time\n",
    "import os"
   ]
  },
  {
   "cell_type": "code",
   "execution_count": 33,
   "metadata": {},
   "outputs": [
    {
     "name": "stdout",
     "output_type": "stream",
     "text": [
      "44.11953091621399\n",
      "91.0521731376648\n",
      "133.5652060508728\n",
      "179.0875368118286\n",
      "222.49854803085327\n",
      "264.52971625328064\n",
      "316.83617997169495\n",
      "353.97473311424255\n",
      "404.7094442844391\n",
      "449.02004194259644\n"
     ]
    }
   ],
   "source": [
    "with Pool(processes=1) as pool:\n",
    "    running_times = []\n",
    "    for i in range(100, 1100, 100):\n",
    "        new_data = datasets[:i]\n",
    "        start_time = time.time()\n",
    "        result = pool.map(parallel_tfidf, new_data)\n",
    "#         print(result[:10])\n",
    "        print(time.time() - start_time)\n",
    "        running_times.append(time.time() - start_time)"
   ]
  },
  {
   "cell_type": "code",
   "execution_count": null,
   "metadata": {},
   "outputs": [],
   "source": []
  },
  {
   "cell_type": "code",
   "execution_count": null,
   "metadata": {},
   "outputs": [],
   "source": [
    "# parallel\n",
    "\n",
    "9.401625871658325\n",
    "19.59419894218445\n",
    "28.177098035812378\n",
    "37.75314688682556\n",
    "44.272866010665894\n",
    "55.80185389518738\n",
    "66.24685597419739\n",
    "72.03889203071594\n",
    "77.66265416145325\n",
    "85.89861297607422\n",
    "\n",
    "\n"
   ]
  },
  {
   "cell_type": "code",
   "execution_count": null,
   "metadata": {},
   "outputs": [],
   "source": [
    "# Local\n",
    "\n",
    "44.11953091621399\n",
    "91.0521731376648\n",
    "133.5652060508728\n",
    "179.0875368118286\n",
    "222.49854803085327\n",
    "264.52971625328064\n",
    "316.83617997169495\n",
    "353.97473311424255\n",
    "404.7094442844391\n",
    "449.02004194259644"
   ]
  },
  {
   "cell_type": "code",
   "execution_count": 50,
   "metadata": {},
   "outputs": [
    {
     "name": "stdout",
     "output_type": "stream",
     "text": [
      "188897\n",
      "14485362\n",
      "28781827\n",
      "43078292\n",
      "57374757\n",
      "71671222\n",
      "85967687\n",
      "100264152\n",
      "114560617\n",
      "128857082\n"
     ]
    }
   ],
   "source": [
    "import sys\n",
    "count = 0\n",
    "for i in range(0, 1000):\n",
    "    count += sys.getsizeof(new_data[i])\n",
    "    if i % 100 == 0:  \n",
    "        print(count)"
   ]
  },
  {
   "cell_type": "code",
   "execution_count": null,
   "metadata": {},
   "outputs": [],
   "source": []
  },
  {
   "cell_type": "code",
   "execution_count": null,
   "metadata": {},
   "outputs": [],
   "source": [
    "# # %%time\n",
    "# running_times = []\n",
    "# for i in range(5, 51, 5):\n",
    "#     new_data = sample(datasets,i)\n",
    "#     lst_searches = sample(lst_search, i)\n",
    "#     start_time = time.time()\n",
    "#     map_result1 = mapper1(new_data, lst_searches)\n",
    "#     reduce_result1 = reducer1(map_result1)\n",
    "#     map_result2 = mapper2(reduce_result1)\n",
    "#     reduce_result2 = reducer2(map_result2)\n",
    "#     map_result3 = mapper3(reduce_result2)\n",
    "#     reduce_result3 = reducer3(map_result3)\n",
    "#     final = mapper4(reduce_result3)\n",
    "#     running_times.append(time.time() - start_time)"
   ]
  },
  {
   "cell_type": "code",
   "execution_count": null,
   "metadata": {},
   "outputs": [],
   "source": [
    "running_times"
   ]
  },
  {
   "cell_type": "code",
   "execution_count": null,
   "metadata": {},
   "outputs": [],
   "source": []
  },
  {
   "cell_type": "code",
   "execution_count": null,
   "metadata": {},
   "outputs": [],
   "source": [
    "final_output = []\n",
    "final_tfidf = []\n",
    "D=51.0\n",
    "# input comes from STDIN (standard input)\n",
    "for line in reduce_result3:\n",
    "    # remove leading and trailing whitespace\n",
    "    line = line.strip()\n",
    "    # split the line into words\n",
    "    wf,nNm=line.split('\\t',1)\n",
    "    wf = wf.strip()\n",
    "    w,f = wf.split(' ',1)\n",
    "    nNm = nNm.strip()\n",
    "    n,N,m=nNm.split(' ',2)\n",
    "    n=float(n)\n",
    "    N=float(N)\n",
    "    m=float(m)\n",
    "    tfidf= (n/N)*log10(D/m)\n",
    "    output = w\n",
    "    final_output.append(output)\n",
    "    final_tfidf.append(tfidf)"
   ]
  },
  {
   "cell_type": "code",
   "execution_count": null,
   "metadata": {},
   "outputs": [],
   "source": [
    "data_tuples = list(zip(final_output,final_tfidf))\n",
    "df1 = pd.DataFrame(data_tuples, columns=['word','tfidf'])\n",
    "df1.sort_values('tfidf', ascending=False).head(15)"
   ]
  },
  {
   "cell_type": "code",
   "execution_count": 53,
   "metadata": {},
   "outputs": [],
   "source": [
    "lst_sizes = [188897,\n",
    "14485362,\n",
    "28781827,\n",
    "43078292,\n",
    "57374757,\n",
    "71671222,\n",
    "85967687,\n",
    "100264152,\n",
    "114560617,\n",
    "128857082]"
   ]
  },
  {
   "cell_type": "code",
   "execution_count": null,
   "metadata": {},
   "outputs": [],
   "source": [
    "1000000"
   ]
  },
  {
   "cell_type": "code",
   "execution_count": 56,
   "metadata": {},
   "outputs": [],
   "source": [
    "new_sizes = []\n",
    "for s in lst_sizes:\n",
    "    new_sizes.append(round(s/1000000,2))"
   ]
  },
  {
   "cell_type": "code",
   "execution_count": 57,
   "metadata": {},
   "outputs": [
    {
     "data": {
      "text/plain": [
       "[0.19, 14.49, 28.78, 43.08, 57.37, 71.67, 85.97, 100.26, 114.56, 128.86]"
      ]
     },
     "execution_count": 57,
     "metadata": {},
     "output_type": "execute_result"
    }
   ],
   "source": [
    "new_sizes"
   ]
  },
  {
   "cell_type": "code",
   "execution_count": null,
   "metadata": {},
   "outputs": [],
   "source": []
  },
  {
   "cell_type": "code",
   "execution_count": null,
   "metadata": {},
   "outputs": [],
   "source": []
  },
  {
   "cell_type": "code",
   "execution_count": 58,
   "metadata": {},
   "outputs": [
    {
     "data": {
      "text/plain": [
       "Text(0, 0.5, 'Time (in seconds)')"
      ]
     },
     "execution_count": 58,
     "metadata": {},
     "output_type": "execute_result"
    },
    {
     "data": {
      "image/png": "[encoded data removed]",
      "text/plain": [
       "<Figure size 432x288 with 1 Axes>"
      ]
     },
     "metadata": {
      "needs_background": "light"
     },
     "output_type": "display_data"
    }
   ],
   "source": [
    "# For plotting Figures\n",
    "# Local vs Local\n",
    "import matplotlib.pyplot as plt\n",
    "import numpy as np\n",
    "\n",
    "docs = [0.19, 14.49, 28.78, 43.08, 57.37, 71.67, 85.97, 100.26, 114.56, 128.86] # beginnen bij 0-\n",
    "local_tfidf = [44.11953091621399,\n",
    "91.0521731376648,\n",
    "133.5652060508728,\n",
    "179.0875368118286,\n",
    "222.49854803085327,\n",
    "264.52971625328064,\n",
    "316.83617997169495,\n",
    "353.97473311424255,\n",
    "404.7094442844391,\n",
    "449.02004194259644]\n",
    "local_tfigm = [138.08856916427612,\n",
    "278.4285681247711,\n",
    "416.02373123168945,\n",
    "555.573157787323,\n",
    "720.0035171508789,\n",
    "870.6720798015594,\n",
    "991.5431771278381,\n",
    "1151.6833758354187,\n",
    "1274.6585099697113,\n",
    "1409.7844321727753]\n",
    "\n",
    "plt.plot(docs, local_tfidf, 'o-')\n",
    "plt.plot(docs, local_tfigm, 'o-')\n",
    "# plt.plot(x, 2 * x)\n",
    "# plt.plot(x, 3 * x)\n",
    "# plt.plot(x, 4 * x)\n",
    "\n",
    "plt.title('Local TFIDF vs Local TFIGM', fontsize=18)\n",
    "plt.legend(['y = TFIDF', 'y = TFIGM'], loc='upper left')\n",
    "plt.xlabel('Size in Megabytes', fontsize=18)\n",
    "plt.ylabel('Time (in seconds)', fontsize=16)\n",
    "\n",
    "# plt.show()"
   ]
  },
  {
   "cell_type": "code",
   "execution_count": null,
   "metadata": {},
   "outputs": [],
   "source": []
  },
  {
   "cell_type": "code",
   "execution_count": 61,
   "metadata": {},
   "outputs": [
    {
     "data": {
      "text/plain": [
       "Text(0, 0.5, 'Time (in seconds)')"
      ]
     },
     "execution_count": 61,
     "metadata": {},
     "output_type": "execute_result"
    },
    {
     "data": {
      "image/png": "[encoded data removed]",
      "text/plain": [
       "<Figure size 432x288 with 1 Axes>"
      ]
     },
     "metadata": {
      "needs_background": "light"
     },
     "output_type": "display_data"
    }
   ],
   "source": [
    "# Parallel vs Parallel\n",
    "docs = [0.19, 14.49, 28.78, 43.08, 57.37, 71.67, 85.97, 100.26, 114.56, 128.86] # beginnen bij 0-\n",
    "parallel_tfidf = [9.401625871658325,\n",
    "19.59419894218445,\n",
    "28.177098035812378,\n",
    "37.75314688682556,\n",
    "44.272866010665894,\n",
    "55.80185389518738,\n",
    "66.24685597419739,\n",
    "72.03889203071594,\n",
    "77.66265416145325,\n",
    "85.89861297607422]\n",
    "parallel_tfigm = [30.135493993759155,\n",
    "54.48365592956543,\n",
    "80.22214913368225,\n",
    "106.95011878013611,\n",
    "136.95192098617554,\n",
    "168.36995792388916,\n",
    "195.76798677444458,\n",
    "221.30671095848083,\n",
    "253.11553406715393,\n",
    "289.38061785697937]\n",
    "\n",
    "plt.plot(docs, parallel_tfidf, 'o-')\n",
    "plt.plot(docs, parallel_tfigm, 'o-')\n",
    "# plt.plot(x, 2 * x)\n",
    "# plt.plot(x, 3 * x)\n",
    "# plt.plot(x, 4 * x)\n",
    "# plt.yticks([0.5, 1, 1.5, 2, 2.5, 3, 3.5])\n",
    "\n",
    "plt.title('Parallel TFIDF vs Parallel TFIGM', fontsize=18)\n",
    "plt.legend(['y = TFIDF', 'y = TFIGM'], loc='upper left')\n",
    "plt.xlabel('Size in Megabytes', fontsize=18)\n",
    "plt.ylabel('Time (in seconds)', fontsize=16)\n",
    "\n",
    "# plt.show()"
   ]
  },
  {
   "cell_type": "code",
   "execution_count": null,
   "metadata": {},
   "outputs": [],
   "source": []
  },
  {
   "cell_type": "code",
   "execution_count": 62,
   "metadata": {},
   "outputs": [
    {
     "data": {
      "text/plain": [
       "Text(0, 0.5, 'Time (in seconds)')"
      ]
     },
     "execution_count": 62,
     "metadata": {},
     "output_type": "execute_result"
    },
    {
     "data": {
      "image/png": "[encoded data removed]",
      "text/plain": [
       "<Figure size 432x288 with 1 Axes>"
      ]
     },
     "metadata": {
      "needs_background": "light"
     },
     "output_type": "display_data"
    }
   ],
   "source": [
    "# Local vs Parallel IGM\n",
    "docs = [0.19, 14.49, 28.78, 43.08, 57.37, 71.67, 85.97, 100.26, 114.56, 128.86] # beginnen bij 0-\n",
    "local_tfigm = [138.08856916427612,\n",
    "278.4285681247711,\n",
    "416.02373123168945,\n",
    "555.573157787323,\n",
    "720.0035171508789,\n",
    "870.6720798015594,\n",
    "991.5431771278381,\n",
    "1151.6833758354187,\n",
    "1274.6585099697113,\n",
    "1409.7844321727753]\n",
    "parallel_tfigm = [30.135493993759155,\n",
    "54.48365592956543,\n",
    "80.22214913368225,\n",
    "106.95011878013611,\n",
    "136.95192098617554,\n",
    "168.36995792388916,\n",
    "195.76798677444458,\n",
    "221.30671095848083,\n",
    "253.11553406715393,\n",
    "289.38061785697937]\n",
    "\n",
    "plt.plot(docs, local_tfigm, 'o-')\n",
    "plt.plot(docs, parallel_tfigm, 'o-')\n",
    "# plt.plot(x, 2 * x)\n",
    "# plt.plot(x, 3 * x)\n",
    "# plt.plot(x, 4 * x)\n",
    "\n",
    "plt.title('Local TFIGM vs Parallel TFIGM', fontsize=18)\n",
    "plt.legend(['y = Local', 'y = Parallel'], loc='upper left')\n",
    "plt.xlabel('Size in Megabytes', fontsize=18)\n",
    "plt.ylabel('Time (in seconds)', fontsize=16)\n",
    "\n",
    "# plt.show()"
   ]
  },
  {
   "cell_type": "code",
   "execution_count": null,
   "metadata": {},
   "outputs": [],
   "source": []
  },
  {
   "cell_type": "code",
   "execution_count": 1,
   "metadata": {},
   "outputs": [],
   "source": [
    "tfigm_local = [57.18224501609802,\n",
    "112.47146010398865,\n",
    "165.73978686332703,\n",
    "221.77069091796875,\n",
    "270.4036648273468,\n",
    "320.8091850280762,\n",
    "400.92387413978577,\n",
    "451.65632700920105,\n",
    "511.9483811855316,\n",
    "555.0262262821198]"
   ]
  },
  {
   "cell_type": "code",
   "execution_count": 3,
   "metadata": {},
   "outputs": [
    {
     "data": {
      "text/plain": [
       "'57.18 & 112.47 & 165.74 & 221.77 & 270.4 & 320.81 & 400.92 & 451.66 & 511.95 & 555.03'"
      ]
     },
     "execution_count": 3,
     "metadata": {},
     "output_type": "execute_result"
    }
   ],
   "source": [
    "\" & \".join([str(round(tfigm, 2)) for tfigm in tfigm_local])"
   ]
  },
  {
   "cell_type": "code",
   "execution_count": 4,
   "metadata": {},
   "outputs": [],
   "source": [
    "tfigm_parallel = [10.912653923034668,\n",
    "25.431442975997925,\n",
    "36.806010246276855,\n",
    "47.119266748428345,\n",
    "56.70264911651611,\n",
    "70.51972198486328,\n",
    "81.978276014328,\n",
    "91.14404082298279,\n",
    "120.51627683639526,\n",
    "121.98761200904846]"
   ]
  },
  {
   "cell_type": "code",
   "execution_count": 5,
   "metadata": {},
   "outputs": [
    {
     "data": {
      "text/plain": [
       "'10.91 & 25.43 & 36.81 & 47.12 & 56.7 & 70.52 & 81.98 & 91.14 & 120.52 & 121.99'"
      ]
     },
     "execution_count": 5,
     "metadata": {},
     "output_type": "execute_result"
    }
   ],
   "source": [
    "\" & \".join([str(round(tfigm, 2)) for tfigm in tfigm_parallel])"
   ]
  },
  {
   "cell_type": "code",
   "execution_count": null,
   "metadata": {},
   "outputs": [],
   "source": []
  }
 ],
 "metadata": {
  "kernelspec": {
   "display_name": "Python 3",
   "language": "python",
   "name": "python3"
  },
  "language_info": {
   "codemirror_mode": {
    "name": "ipython",
    "version": 3
   },
   "file_extension": ".py",
   "mimetype": "text/x-python",
   "name": "python",
   "nbconvert_exporter": "python",
   "pygments_lexer": "ipython3",
   "version": "3.7.6"
  }
 },
 "nbformat": 4,
 "nbformat_minor": 2
}
